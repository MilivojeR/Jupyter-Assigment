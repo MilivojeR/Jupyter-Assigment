{
 "cells": [
  {
   "cell_type": "markdown",
   "id": "4a1c9263-6eb1-4378-8e3f-e9eb6064902a",
   "metadata": {},
   "source": [
    "# Data Science Tools and Ecosystem\n",
    "\n",
    "In this notebook, Data Science Tools and Ecosystem are summarized.\n"
   ]
  },
  {
   "cell_type": "markdown",
   "id": "a549749f-4064-483a-b14e-d15fe53f6d23",
   "metadata": {},
   "source": [
    "**Objectives**:\n",
    "- List of popular languages for Data Science.\n",
    "- List of popular Libraries for data science.\n",
    "- Good introduction to Github\n",
    "- Good introduction to Jupyter, Rstudio and Anaconda\n"
   ]
  },
  {
   "cell_type": "markdown",
   "id": "600a1309-ada3-4c3a-866b-6d4d4db8fe02",
   "metadata": {},
   "source": [
    "Some of the popular languages that Data Scientists use are:\n",
    "1. python\n",
    "2. R\n",
    "3. SQL"
   ]
  },
  {
   "cell_type": "markdown",
   "id": "8876e089-da6b-43a5-b86d-ad33850f551e",
   "metadata": {},
   "source": [
    "Some of the commonly used libraries used by Data Scientists include:\n",
    "1. Pandas\n",
    "2. Numpy\n",
    "3. ScyPy\n",
    "4. Pytorch\n"
   ]
  },
  {
   "cell_type": "markdown",
   "id": "e0b50e21-d7a1-48c6-98f6-824de8fa2550",
   "metadata": {},
   "source": [
    "| Data Science Tools |\n",
    "| -------------------|\n",
    "| Jupyter Notebook|\n",
    "| RStudio|\n",
    "| Apache Zeppelin|"
   ]
  },
  {
   "cell_type": "markdown",
   "id": "1ff724f0-7eeb-4f91-aa5c-c40c3468055a",
   "metadata": {},
   "source": [
    "### Below are a few examples of evaluating arithmetic expressions in Python"
   ]
  },
  {
   "cell_type": "code",
   "execution_count": 4,
   "id": "59c5bfe3-2ab0-4460-ab76-5dbaa35dcf38",
   "metadata": {},
   "outputs": [
    {
     "data": {
      "text/plain": [
       "17"
      ]
     },
     "execution_count": 4,
     "metadata": {},
     "output_type": "execute_result"
    }
   ],
   "source": [
    "#This a simple arithmetic expression to mutiply then add integers\n",
    "(3*4)+5"
   ]
  },
  {
   "cell_type": "code",
   "execution_count": 6,
   "id": "64aaf6e7-9856-4c07-87a1-f31d80969b74",
   "metadata": {},
   "outputs": [
    {
     "data": {
      "text/plain": [
       "3.3333333333333335"
      ]
     },
     "execution_count": 6,
     "metadata": {},
     "output_type": "execute_result"
    }
   ],
   "source": [
    "#This will convert 200 minutes to hours by diving by 60\n",
    "\n",
    "200/60"
   ]
  },
  {
   "cell_type": "markdown",
   "id": "5588ee66-de51-400e-965e-2f11fca32d0a",
   "metadata": {},
   "source": [
    "## Author\n",
    "   Milivoje Radovic"
   ]
  },
  {
   "cell_type": "code",
   "execution_count": null,
   "id": "dc5118a4-cdbe-43ab-a8ca-a7acf1b8e9c6",
   "metadata": {},
   "outputs": [],
   "source": []
  }
 ],
 "metadata": {
  "kernelspec": {
   "display_name": "Python 3 (ipykernel)",
   "language": "python",
   "name": "python3"
  },
  "language_info": {
   "codemirror_mode": {
    "name": "ipython",
    "version": 3
   },
   "file_extension": ".py",
   "mimetype": "text/x-python",
   "name": "python",
   "nbconvert_exporter": "python",
   "pygments_lexer": "ipython3",
   "version": "3.11.7"
  }
 },
 "nbformat": 4,
 "nbformat_minor": 5
}
